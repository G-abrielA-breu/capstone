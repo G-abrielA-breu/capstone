{
 "cells": [
  {
   "cell_type": "code",
   "execution_count": 22,
   "metadata": {},
   "outputs": [],
   "source": [
    "import json\n",
    "import numpy as np\n",
    "import pandas as pd\n",
    "from sklearn.decomposition import PCA\n",
    "from sentence_transformers import SentenceTransformer\n",
    "import matplotlib.pyplot as plt\n",
    "import plotly.express as px\n",
    "from sklearn.cluster import KMeans\n",
    "import matplotlib.pyplot as plt\n",
    "from mpl_toolkits.mplot3d import Axes3D\n",
    "from sklearn.datasets import make_blobs\n",
    "from sklearn.preprocessing import StandardScaler\n",
    "from sklearn.impute import KNNImputer"
   ]
  },
  {
   "cell_type": "code",
   "execution_count": 23,
   "metadata": {},
   "outputs": [],
   "source": [
    "with open('Hit_Table_3JSON.json', 'r') as file:\n",
    "  f100 = json.load(file)\n",
    "\n"
   ]
  },
  {
   "cell_type": "code",
   "execution_count": 24,
   "metadata": {},
   "outputs": [
    {
     "name": "stdout",
     "output_type": "stream",
     "text": [
      "152\n"
     ]
    }
   ],
   "source": [
    "# Convert JSON to DataFrame\n",
    "df = pd.json_normalize(f100)\n",
    "df['num_hits'] = pd.to_numeric(df['num_hits'], errors='raise') \n",
    "df['num_employees'] = pd.to_numeric(df['num_employees'], errors='raise') \n",
    "df['revenue'] = pd.to_numeric(df['revenue'], errors='raise') \n",
    "df['naics_code'] = pd.to_numeric(df['naics_code'], errors='raise') \n",
    "df['industry_code'] = pd.to_numeric(df['industry_code'], errors='raise') \n",
    "df['total_ips'] = pd.to_numeric(df['total_ips'], errors='raise') \n",
    "df['total_domains'] = pd.to_numeric(df['total_domains'], errors='raise') \n",
    "df['is_alerted'] = pd.to_numeric(df['is_alerted'], errors='raise') \n",
    "\n",
    "print(df['rawText'].isnull().sum())\n",
    "df = df.dropna(subset=['rawText'])\n",
    "#print(df)"
   ]
  },
  {
   "cell_type": "code",
   "execution_count": 25,
   "metadata": {},
   "outputs": [],
   "source": [
    "#print(df)\n",
    "#time.sleep(10000)\n",
    "# Initialize the sentence transformer model\n",
    "model = SentenceTransformer('all-MiniLM-L6-v2')\n",
    "\n",
    "# Generate embeddings for each text entry\n",
    "embeddings = model.encode(df['rawText'].tolist())\n",
    "\n",
    "# Run PCA on the embeddings\n",
    "pca = PCA(n_components=3)\n",
    "pca_result = pca.fit_transform(embeddings)\n",
    "\n",
    "# Add PCA results to the DataFrame\n",
    "df['PCA1'] = pca_result[:, 0]\n",
    "df['PCA2'] = pca_result[:, 1]\n",
    "df['PCA3'] = pca_result[:, 2]"
   ]
  },
  {
   "cell_type": "code",
   "execution_count": 26,
   "metadata": {},
   "outputs": [
    {
     "name": "stderr",
     "output_type": "stream",
     "text": [
      "/home/aedan_ounsamone_bluevoyant_com/.local/lib/python3.8/site-packages/sklearn/cluster/_kmeans.py:1416: FutureWarning:\n",
      "\n",
      "The default value of `n_init` will change from 10 to 'auto' in 1.4. Set the value of `n_init` explicitly to suppress the warning\n",
      "\n"
     ]
    }
   ],
   "source": [
    "\n",
    "kmeans = KMeans(n_clusters=3, random_state=42)  # Adjust n_clusters as needed\n",
    "kmeans.fit(pca_result)\n",
    "labels = kmeans.labels_\n",
    "\n",
    "# Add the cluster labels to the data for reference\n",
    "df['Cluster'] = labels"
   ]
  },
  {
   "cell_type": "code",
   "execution_count": 27,
   "metadata": {},
   "outputs": [
    {
     "name": "stdout",
     "output_type": "stream",
     "text": [
      "              entity_domain      PCA1      PCA2      PCA3  Cluster\n",
      "2                 cisco.com  0.196797  0.002258  0.266633        1\n",
      "6              marriott.com -0.083457  0.007193 -0.100301        0\n",
      "37                  kns.com -0.243728 -0.188646  0.000679        0\n",
      "40        garrettmotion.com -0.218841 -0.177512 -0.036519        0\n",
      "44               steris.com  0.412139  0.210639  0.052756        1\n",
      "45             livanova.com -0.177758 -0.343060  0.035458        0\n",
      "47                  aon.com  0.365697  0.047062 -0.226509        1\n",
      "52                  fcx.com  0.332965  0.022418 -0.296704        1\n",
      "57          oceaneering.com -0.133140  0.326932  0.485105        2\n",
      "63            interface.com -0.121476 -0.339940  0.126511        0\n",
      "72            crowntech.com  0.108848  0.233175  0.204362        1\n",
      "73            keytronic.com  0.124418 -0.005997 -0.200665        1\n",
      "80               kinter.com -0.119399  0.044268 -0.174488        0\n",
      "82              leggett.com  0.491320  0.045440 -0.106726        1\n",
      "90            microchip.com -0.314402 -0.184491 -0.138851        0\n",
      "91                heico.com -0.276869 -0.150655 -0.105653        0\n",
      "96             capsonic.com  0.026405 -0.204116  0.135733        0\n",
      "99          henryschein.com  0.352479  0.086683  0.255676        1\n",
      "101               jakks.com -0.336486 -0.178510 -0.052632        0\n",
      "103             emerson.com  0.485690  0.057939 -0.154054        1\n",
      "111          pricesmart.com  0.184322 -0.152784  0.122683        1\n",
      "112  dickssportinggoods.com -0.130703 -0.366337  0.049057        0\n",
      "115        allegiantair.com  0.327808  0.086375 -0.027438        1\n",
      "117          forwardair.com -0.139156 -0.129834 -0.088488        0\n",
      "118           americold.com -0.136202 -0.281797 -0.084712        0\n",
      "124                okta.com  0.087505  0.254948 -0.221516        1\n",
      "128            omnicell.com -0.291431 -0.145319  0.005055        0\n",
      "133             dropbox.com -0.322369  0.473969 -0.095194        2\n",
      "138              leidos.com  0.253845 -0.224033  0.158475        1\n",
      "139              nelnet.com  0.406348  0.102521 -0.217237        1\n",
      "143     marcusmillichap.com -0.143925 -0.165349 -0.205941        0\n",
      "147          prudential.com -0.429429  0.169444 -0.098008        2\n",
      "148             metlife.com -0.134157  0.319167  0.439412        2\n",
      "149                 fnf.com -0.447265  0.302791  0.002774        2\n",
      "151         kimcorealty.com  0.318290 -0.053763  0.197687        1\n",
      "152         willislease.com -0.139441 -0.348244 -0.020871        0\n",
      "155          expeditors.com  0.025368  0.180995 -0.107257        1\n",
      "158              intuit.com  0.313183 -0.170730 -0.114405        1\n",
      "163        meridianlink.com  0.433193  0.093874 -0.011658        1\n",
      "165              paycom.com -0.336136  0.163668 -0.168127        2\n",
      "167                uber.com  0.342786  0.026711 -0.235696        1\n",
      "173                enzo.com -0.314451  0.128096 -0.113539        2\n",
      "177          huntington.com  0.259748  0.068317  0.482670        1\n",
      "178            t-mobile.com -0.405987  0.413975  0.040576        2\n",
      "184   unitedhealthgroup.com  0.146154 -0.438114  0.284676        0\n",
      "188          transunion.com  0.398887  0.125947 -0.061403        1\n",
      "195          mgmresorts.com -0.267153  0.228211  0.323884        2\n",
      "198                 yum.com -0.252764 -0.224997  0.226909        0\n",
      "200           marinemax.com -0.378704  0.098502 -0.140288        2\n",
      "201            hcsgcorp.com -0.099363  0.152710 -0.291891        2\n"
     ]
    }
   ],
   "source": [
    "print(df[['entity_domain', 'PCA1', 'PCA2','PCA3','Cluster']])\n",
    "\n"
   ]
  },
  {
   "cell_type": "code",
   "execution_count": 29,
   "metadata": {},
   "outputs": [
    {
     "ename": "ValueError",
     "evalue": "Mime type rendering requires nbformat>=4.2.0 but it is not installed",
     "output_type": "error",
     "traceback": [
      "\u001b[0;31m---------------------------------------------------------------------------\u001b[0m",
      "\u001b[0;31mValueError\u001b[0m                                Traceback (most recent call last)",
      "Cell \u001b[0;32mIn[29], line 14\u001b[0m\n\u001b[1;32m      2\u001b[0m fig \u001b[38;5;241m=\u001b[39m px\u001b[38;5;241m.\u001b[39mscatter_3d(\n\u001b[1;32m      3\u001b[0m     df,\n\u001b[1;32m      4\u001b[0m     x\u001b[38;5;241m=\u001b[39m\u001b[38;5;124m'\u001b[39m\u001b[38;5;124mPCA1\u001b[39m\u001b[38;5;124m'\u001b[39m,\n\u001b[0;32m   (...)\u001b[0m\n\u001b[1;32m     10\u001b[0m     labels\u001b[38;5;241m=\u001b[39m{\u001b[38;5;124m'\u001b[39m\u001b[38;5;124mx\u001b[39m\u001b[38;5;124m'\u001b[39m: \u001b[38;5;124m'\u001b[39m\u001b[38;5;124mX Axis\u001b[39m\u001b[38;5;124m'\u001b[39m, \u001b[38;5;124m'\u001b[39m\u001b[38;5;124my\u001b[39m\u001b[38;5;124m'\u001b[39m: \u001b[38;5;124m'\u001b[39m\u001b[38;5;124mY Axis\u001b[39m\u001b[38;5;124m'\u001b[39m, \u001b[38;5;124m'\u001b[39m\u001b[38;5;124mz\u001b[39m\u001b[38;5;124m'\u001b[39m: \u001b[38;5;124m'\u001b[39m\u001b[38;5;124mZ Axis\u001b[39m\u001b[38;5;124m'\u001b[39m}\n\u001b[1;32m     11\u001b[0m )\n\u001b[1;32m     13\u001b[0m \u001b[38;5;66;03m# Show the plot\u001b[39;00m\n\u001b[0;32m---> 14\u001b[0m \u001b[43mfig\u001b[49m\u001b[38;5;241;43m.\u001b[39;49m\u001b[43mshow\u001b[49m\u001b[43m(\u001b[49m\u001b[43m)\u001b[49m\n",
      "File \u001b[0;32m~/.local/lib/python3.8/site-packages/plotly/basedatatypes.py:3414\u001b[0m, in \u001b[0;36mBaseFigure.show\u001b[0;34m(self, *args, **kwargs)\u001b[0m\n\u001b[1;32m   3381\u001b[0m \u001b[38;5;250m\u001b[39m\u001b[38;5;124;03m\"\"\"\u001b[39;00m\n\u001b[1;32m   3382\u001b[0m \u001b[38;5;124;03mShow a figure using either the default renderer(s) or the renderer(s)\u001b[39;00m\n\u001b[1;32m   3383\u001b[0m \u001b[38;5;124;03mspecified by the renderer argument\u001b[39;00m\n\u001b[0;32m   (...)\u001b[0m\n\u001b[1;32m   3410\u001b[0m \u001b[38;5;124;03mNone\u001b[39;00m\n\u001b[1;32m   3411\u001b[0m \u001b[38;5;124;03m\"\"\"\u001b[39;00m\n\u001b[1;32m   3412\u001b[0m \u001b[38;5;28;01mimport\u001b[39;00m\u001b[38;5;250m \u001b[39m\u001b[38;5;21;01mplotly\u001b[39;00m\u001b[38;5;21;01m.\u001b[39;00m\u001b[38;5;21;01mio\u001b[39;00m\u001b[38;5;250m \u001b[39m\u001b[38;5;28;01mas\u001b[39;00m\u001b[38;5;250m \u001b[39m\u001b[38;5;21;01mpio\u001b[39;00m\n\u001b[0;32m-> 3414\u001b[0m \u001b[38;5;28;01mreturn\u001b[39;00m \u001b[43mpio\u001b[49m\u001b[38;5;241;43m.\u001b[39;49m\u001b[43mshow\u001b[49m\u001b[43m(\u001b[49m\u001b[38;5;28;43mself\u001b[39;49m\u001b[43m,\u001b[49m\u001b[43m \u001b[49m\u001b[38;5;241;43m*\u001b[39;49m\u001b[43margs\u001b[49m\u001b[43m,\u001b[49m\u001b[43m \u001b[49m\u001b[38;5;241;43m*\u001b[39;49m\u001b[38;5;241;43m*\u001b[39;49m\u001b[43mkwargs\u001b[49m\u001b[43m)\u001b[49m\n",
      "File \u001b[0;32m~/.local/lib/python3.8/site-packages/plotly/io/_renderers.py:425\u001b[0m, in \u001b[0;36mshow\u001b[0;34m(fig, renderer, validate, **kwargs)\u001b[0m\n\u001b[1;32m    420\u001b[0m     \u001b[38;5;28;01mraise\u001b[39;00m \u001b[38;5;167;01mValueError\u001b[39;00m(\n\u001b[1;32m    421\u001b[0m         \u001b[38;5;124m\"\u001b[39m\u001b[38;5;124mMime type rendering requires ipython but it is not installed\u001b[39m\u001b[38;5;124m\"\u001b[39m\n\u001b[1;32m    422\u001b[0m     )\n\u001b[1;32m    424\u001b[0m \u001b[38;5;28;01mif\u001b[39;00m \u001b[38;5;129;01mnot\u001b[39;00m nbformat \u001b[38;5;129;01mor\u001b[39;00m Version(nbformat\u001b[38;5;241m.\u001b[39m__version__) \u001b[38;5;241m<\u001b[39m Version(\u001b[38;5;124m\"\u001b[39m\u001b[38;5;124m4.2.0\u001b[39m\u001b[38;5;124m\"\u001b[39m):\n\u001b[0;32m--> 425\u001b[0m     \u001b[38;5;28;01mraise\u001b[39;00m \u001b[38;5;167;01mValueError\u001b[39;00m(\n\u001b[1;32m    426\u001b[0m         \u001b[38;5;124m\"\u001b[39m\u001b[38;5;124mMime type rendering requires nbformat>=4.2.0 but it is not installed\u001b[39m\u001b[38;5;124m\"\u001b[39m\n\u001b[1;32m    427\u001b[0m     )\n\u001b[1;32m    429\u001b[0m display_jupyter_version_warnings()\n\u001b[1;32m    431\u001b[0m ipython_display\u001b[38;5;241m.\u001b[39mdisplay(bundle, raw\u001b[38;5;241m=\u001b[39m\u001b[38;5;28;01mTrue\u001b[39;00m)\n",
      "\u001b[0;31mValueError\u001b[0m: Mime type rendering requires nbformat>=4.2.0 but it is not installed"
     ]
    }
   ],
   "source": [
    "# Create a 3D scatter plot\n",
    "fig = px.scatter_3d(\n",
    "    df,\n",
    "    x='PCA1',\n",
    "    y='PCA2',\n",
    "    z='PCA3',\n",
    "    size='num_hits',  # Optional: use if you want variable marker sizes\n",
    "    color='Cluster',  # Optional: use if you want variable marker colors\n",
    "    title='3D Scatter Plot of Company Filing Embeddings',\n",
    "    labels={'x': 'X Axis', 'y': 'Y Axis', 'z': 'Z Axis'}\n",
    ")\n",
    "\n",
    "# Show the plot\n",
    "fig.show()"
   ]
  },
  {
   "cell_type": "code",
   "execution_count": null,
   "metadata": {},
   "outputs": [],
   "source": [
    "\n",
    "# Generate sample data\n",
    "#X, _ = make_blobs(n_samples=300, centers=4, random_state=42)\n",
    "\n",
    "# Determine the optimal number of clusters using the Elbow method\n",
    "inertia = []\n",
    "K = range(1, 11)\n",
    "for k in K:\n",
    "    kmeans = KMeans(n_clusters=k, random_state=42)\n",
    "    kmeans.fit(pca_result)\n",
    "    inertia.append(kmeans.inertia_)"
   ]
  },
  {
   "cell_type": "code",
   "execution_count": null,
   "metadata": {},
   "outputs": [],
   "source": [
    "plt.figure(figsize=(8, 6))\n",
    "plt.plot(K, inertia, 'bx-')\n",
    "plt.xlabel('Number of clusters')\n",
    "plt.ylabel('Inertia')\n",
    "plt.title('Elbow Method for Optimal Number of Clusters')\n",
    "plt.show()"
   ]
  },
  {
   "cell_type": "code",
   "execution_count": null,
   "metadata": {},
   "outputs": [],
   "source": [
    "kmeans = KMeans(n_clusters=4, random_state=69)  # Adjust n_clusters as needed\n",
    "kmeans.fit(pca_result)\n",
    "labels = kmeans.labels_\n",
    "\n",
    "# Add the cluster labels to the data for reference\n",
    "df['Cluster'] = labels\n",
    "industry_codes = {\n",
    "    11: \"Agriculture, Forestry, Fishing and Hunting\",\n",
    "    21: \"Mining, Quarrying, and Oil and Gas Extraction\",\n",
    "    22: \"Utilities\",\n",
    "    23: \"Construction\",\n",
    "    31: \"Manufacturing\",\n",
    "    32: \"Manufacturing\",\n",
    "    33: \"Manufacturing\",\n",
    "    42: \"Wholesale Trade\",\n",
    "    44: \"Retail Trade\",\n",
    "    45: \"Retail Trade\",\n",
    "    48: \"Transportation and Warehousing\",\n",
    "    49: \"Transportation and Warehousing\",\n",
    "    51: \"Information\",\n",
    "    52: \"Finance and Insurance\",\n",
    "    53: \"Real Estate and Rental and Leasing\",\n",
    "    54: \"Professional, Scientific, and Technical Services\",\n",
    "    55: \"Management of Companies and Enterprises\",\n",
    "    56: \"Administrative and Support and Waste Management and Remediation Services\",\n",
    "    61: \"Educational Services\",\n",
    "    62: \"Health Care and Social Assistance\",\n",
    "    71: \"Arts, Entertainment, and Recreation\",\n",
    "    72: \"Accommodation and Food Services\",\n",
    "    81: \"Other Services (except Public Administration)\",\n",
    "    92: \"Public Administration\"\n",
    "}\n",
    "df['Industry'] = df['industry_code'].map(industry_codes)"
   ]
  },
  {
   "cell_type": "code",
   "execution_count": null,
   "metadata": {},
   "outputs": [],
   "source": [
    "# Create a 3D scatter plot\n",
    "fig = px.scatter_3d(\n",
    "    df,\n",
    "    x='PCA1',\n",
    "    y='PCA2',\n",
    "    z='PCA3',\n",
    "    size='num_hits',  # Optional: use if you want variable marker sizes\n",
    "    color='Cluster',  # Optional: use if you want variable marker colors\n",
    "    title='3D Scatter Plot of Company Filing Embeddings',\n",
    "    \n",
    "    labels={'x': 'X Axis', 'y': 'Y Axis', 'z': 'Z Axis'}\n",
    ")\n",
    "\n",
    "# Show the plot\n",
    "fig.show()"
   ]
  },
  {
   "cell_type": "code",
   "execution_count": null,
   "metadata": {},
   "outputs": [],
   "source": [
    "df[0:5]"
   ]
  },
  {
   "cell_type": "code",
   "execution_count": null,
   "metadata": {},
   "outputs": [],
   "source": [
    "#Number of Industry\n",
    "pivot_table_industry = df.pivot_table(index='Cluster', columns='Industry', aggfunc='size', fill_value=0)\n",
    "\n",
    "# Plotting\n",
    "pivot_table_industry.plot(kind='bar', stacked=True, figsize=(12, 8))\n",
    "\n",
    "# Add titles and labels\n",
    "plt.title('Distribution of Industries per Cluster')\n",
    "plt.xlabel('Cluster')\n",
    "plt.ylabel('Number of Entries')\n",
    "plt.legend(title='Industry')\n",
    "\n",
    "# Show the plot\n",
    "plt.tight_layout()\n",
    "plt.show()"
   ]
  },
  {
   "cell_type": "code",
   "execution_count": null,
   "metadata": {},
   "outputs": [],
   "source": [
    "\n",
    "#Number of Hits\n",
    "\n",
    "pivot_table_num_hits = df.pivot_table(index='Cluster', columns='num_hits', aggfunc='size', fill_value=0)\n",
    "\n",
    "# Plotting\n",
    "pivot_table_num_hits.plot(kind='bar', stacked=True, figsize=(12, 8))\n",
    "\n",
    "# Add titles and labels\n",
    "plt.title('Distribution of Number of Hits per Cluster')\n",
    "plt.xlabel('Cluster')\n",
    "plt.ylabel('Number of Entries')\n",
    "plt.legend(title='Num Hits')\n",
    "\n",
    "# Show the plot\n",
    "plt.tight_layout()\n",
    "plt.show()"
   ]
  },
  {
   "cell_type": "code",
   "execution_count": null,
   "metadata": {},
   "outputs": [],
   "source": [
    "\n",
    "#Number of Employees\n",
    "\n",
    "pivot_table_num_employees = df.pivot_table(index='Cluster', columns='num_employees', aggfunc='size', fill_value=0)\n",
    "\n",
    "# Plotting\n",
    "pivot_table_num_employees.plot(kind='bar', stacked=True, figsize=(12, 8))\n",
    "\n",
    "# Add titles and labels\n",
    "plt.title('Distribution of Number of Employees per Cluster')\n",
    "plt.xlabel('Cluster')\n",
    "plt.ylabel('Number of Entries')\n",
    "plt.legend(title='Number of Employees')\n",
    "\n",
    "# Show the plot\n",
    "plt.tight_layout()\n",
    "plt.show()"
   ]
  },
  {
   "cell_type": "code",
   "execution_count": null,
   "metadata": {},
   "outputs": [],
   "source": [
    "\n",
    "#Revenue\n",
    "\n",
    "pivot_table_revenue = df.pivot_table(index='Cluster', columns='revenue', aggfunc='size', fill_value=0)\n",
    "\n",
    "# Plotting\n",
    "pivot_table_revenue.plot(kind='bar', stacked=True, figsize=(12, 8))\n",
    "\n",
    "# Add titles and labels\n",
    "plt.title('Distribution of Number of Hits per Cluster')\n",
    "plt.xlabel('Cluster')\n",
    "plt.ylabel('Number of Entries')\n",
    "plt.legend(title='Revenue')\n",
    "\n",
    "# Show the plot\n",
    "plt.tight_layout()\n",
    "plt.show()"
   ]
  }
 ],
 "metadata": {
  "kernelspec": {
   "display_name": "Python 3",
   "language": "python",
   "name": "python3"
  },
  "language_info": {
   "codemirror_mode": {
    "name": "ipython",
    "version": 3
   },
   "file_extension": ".py",
   "mimetype": "text/x-python",
   "name": "python",
   "nbconvert_exporter": "python",
   "pygments_lexer": "ipython3",
   "version": "3.8.10"
  }
 },
 "nbformat": 4,
 "nbformat_minor": 2
}
